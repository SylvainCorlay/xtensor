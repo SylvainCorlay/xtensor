{
 "cells": [
  {
   "cell_type": "code",
   "execution_count": 1,
   "metadata": {
    "collapsed": true
   },
   "outputs": [],
   "source": [
    "#include <iostream>\n",
    "#include <vector>\n",
    "\n",
    "#include \"xtensor/xarray.hpp\"\n",
    "#include \"xtensor/xstridedview.hpp\"\n",
    "\n",
    "\n",
    "template <class D>\n",
    "void recursive_to_json(xeus::xjson& j, const xt::xexpression<D>& e, xt::slice_vector& slices)\n",
    "{\n",
    "    const auto view = xt::dynamic_view(e.derived_cast(), slices);\n",
    "    if (view.dimension() == 0)\n",
    "    {\n",
    "        j = view();\n",
    "    }\n",
    "    else\n",
    "    {\n",
    "        j = xeus::xjson::array();\n",
    "        using size_type = typename D::size_type;\n",
    "        size_type nrows = view.shape()[0];\n",
    "        for (size_type i = 0; i != nrows; ++i)\n",
    "        {\n",
    "            slices.push_back(i);\n",
    "            xeus::xjson k;\n",
    "            recursive_to_json(k, e, slices);\n",
    "            j.push_back(std::move(k));\n",
    "            slices.pop_back();\n",
    "        }\n",
    "    }\n",
    "}\n",
    "\n",
    "template <class D>\n",
    "void to_json(xeus::xjson& j, const xt::xexpression<D>& e)\n",
    "{\n",
    "    auto sv = xt::slice_vector(e);\n",
    "    recursive_to_json(j, e, sv);\n",
    "}\n",
    "\n",
    "inline unsigned int json_dimension(const xeus::xjson& j)\n",
    "{\n",
    "    if (j.is_array() && j.size())\n",
    "    {\n",
    "        return 1 + json_dimension(j[0]);\n",
    "    }\n",
    "    else\n",
    "    {\n",
    "        return 0;\n",
    "    }\n",
    "}\n",
    "\n",
    "template <class S>\n",
    "inline void json_shape(const xeus::xjson& j, S& s)\n",
    "{\n",
    "    if (j.is_array())\n",
    "    {\n",
    "        auto size = j.size();\n",
    "        s.push_back(size);\n",
    "        if (size)\n",
    "        {\n",
    "            json_shape(j[0], s);\n",
    "        }\n",
    "    }\n",
    "}"
   ]
  },
  {
   "cell_type": "code",
   "execution_count": 2,
   "metadata": {},
   "outputs": [
    {
     "name": "stdout",
     "output_type": "stream",
     "text": [
      "[[[1.0,2.0],[3.0,4.0]],[[1.0,2.0],[3.0,4.0]]]\n"
     ]
    }
   ],
   "source": [
    "xt::xarray<double> t = {{{1, 2}, {3, 4}}, {{1, 2}, {3, 4}}};\n",
    "xeus::xjson jl;\n",
    "to_json(jl, t);\n",
    "std::cout << jl.dump() << std::endl;"
   ]
  },
  {
   "cell_type": "code",
   "execution_count": 3,
   "metadata": {},
   "outputs": [
    {
     "name": "stdout",
     "output_type": "stream",
     "text": [
      "3"
     ]
    }
   ],
   "source": [
    "std::cout << json_dimension(jl);"
   ]
  },
  {
   "cell_type": "code",
   "execution_count": 4,
   "metadata": {
    "collapsed": true
   },
   "outputs": [],
   "source": [
    "std::vector<unsigned int> s;\n",
    "json_shape(jl, s);"
   ]
  },
  {
   "cell_type": "code",
   "execution_count": 5,
   "metadata": {},
   "outputs": [
    {
     "name": "stdout",
     "output_type": "stream",
     "text": [
      "(std::vector<unsigned int> &) { 2, 2, 2 }\n"
     ]
    }
   ],
   "source": [
    "s"
   ]
  },
  {
   "cell_type": "code",
   "execution_count": 6,
   "metadata": {
    "collapsed": true
   },
   "outputs": [],
   "source": [
    "#include \"xtensor/xio.hpp\""
   ]
  },
  {
   "cell_type": "code",
   "execution_count": 7,
   "metadata": {
    "collapsed": true
   },
   "outputs": [],
   "source": [
    "template <class D>\n",
    "inline void from_json_recursive(const xeus::xjson& j, xt::xexpression<D>& e, xt::slice_vector& slices)\n",
    "{\n",
    "    auto view = xt::dynamic_view(e.derived_cast(), slices);\n",
    "\n",
    "    if (view.dimension() == 0)\n",
    "    {\n",
    "        view() = j;\n",
    "    }\n",
    "    else\n",
    "    {\n",
    "        using size_type = typename D::size_type;\n",
    "        size_type nrows = view.shape()[0];\n",
    "        for (auto i = 0; i != nrows; ++i)\n",
    "        {\n",
    "            slices.push_back(i);\n",
    "            const xeus::xjson& k = j[i];\n",
    "            from_json_recursive(k, e, slices);\n",
    "            slices.pop_back();\n",
    "        }\n",
    "    }\n",
    "}\n",
    "\n",
    "template <class D>\n",
    "inline void from_json(const xeus::xjson& j, xt::xexpression<D>& e)\n",
    "{\n",
    "    xt::xarray<double> tmp;\n",
    "    xt::xarray<double>::shape_type s;\n",
    "    json_shape(j, s);\n",
    "    tmp.reshape(s);\n",
    "    auto sv = xt::slice_vector(tmp);\n",
    "    from_json_recursive(j, tmp, sv);\n",
    "    e.derived_cast() = std::move(tmp);\n",
    "}"
   ]
  },
  {
   "cell_type": "code",
   "execution_count": 8,
   "metadata": {
    "collapsed": true
   },
   "outputs": [],
   "source": [
    "xt::xarray<double> aa;"
   ]
  },
  {
   "cell_type": "code",
   "execution_count": 9,
   "metadata": {},
   "outputs": [],
   "source": [
    "from_json(jl, aa);"
   ]
  },
  {
   "cell_type": "code",
   "execution_count": 10,
   "metadata": {},
   "outputs": [
    {
     "name": "stdout",
     "output_type": "stream",
     "text": [
      "{{{ 1.,  2.},\n",
      "  { 3.,  4.}},\n",
      " {{ 1.,  2.},\n",
      "  { 3.,  4.}}}\n"
     ]
    }
   ],
   "source": [
    "std::cout << aa << std::endl;"
   ]
  },
  {
   "cell_type": "code",
   "execution_count": null,
   "metadata": {
    "collapsed": true
   },
   "outputs": [],
   "source": []
  }
 ],
 "metadata": {
  "kernelspec": {
   "display_name": "xeus C++14",
   "language": "",
   "name": "xeus-cling-cpp14"
  },
  "language_info": {
   "codemirror_mode": "text/x-c++src",
   "file_extension": ".cpp",
   "mimetype": "text/x-c++src",
   "name": "c++",
   "version": ""
  }
 },
 "nbformat": 4,
 "nbformat_minor": 1
}
